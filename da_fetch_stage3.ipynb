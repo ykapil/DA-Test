{
 "cells": [
  {
   "cell_type": "code",
   "execution_count": null,
   "id": "3559523f",
   "metadata": {},
   "outputs": [],
   "source": [
    "import pandas as pd\n",
    "\n",
    "# Load data from the gzipped JSON files into DataFrames\n",
    "brands_df = pd.read_json('brands.json.gz', lines=True)\n",
    "users_df = pd.read_json('users.json.gz', lines=True)\n",
    "receipts_df = pd.read_json('receipts.json.gz', lines=True)\n",
    "\n",
    "# Explore the data in each DataFrame\n",
    "print(\"Brands DataFrame:\")\n",
    "print(brands_df.head())\n",
    "\n",
    "print(\"Users DataFrame:\")\n",
    "print(users_df.head())\n",
    "\n",
    "print(\"Receipts DataFrame:\")\n",
    "print(receipts_df.head())\n",
    "\n",
    "# Check for missing values\n",
    "print(\"Missing values in Brands DataFrame:\")\n",
    "print(brands_df.isnull().sum())\n",
    "\n",
    "print(\"Missing values in Users DataFrame:\")\n",
    "print(users_df.isnull().sum())\n",
    "\n",
    "print(\"Missing values in Receipts DataFrame:\")\n",
    "print(receipts_df.isnull().sum())\n",
    "\n",
    "# Explore data types and formats\n",
    "print(\"Data types and formats in Brands DataFrame:\")\n",
    "print(brands_df.info())\n",
    "\n",
    "print(\"Data types and formats in Users DataFrame:\")\n",
    "print(users_df.info())\n",
    "\n",
    "print(\"Data types and formats in Receipts DataFrame:\")\n",
    "print(receipts_df.info())\n",
    "\n",
    "# Explore statistical summaries to identify outliers\n",
    "print(\"Statistical summary for Brands DataFrame:\")\n",
    "print(brands_df.describe())\n",
    "\n",
    "print(\"Statistical summary for Users DataFrame:\")\n",
    "print(users_df.describe())\n",
    "\n",
    "print(\"Statistical summary for Receipts DataFrame:\")\n",
    "print(receipts_df.describe())"
   ]
  }
 ],
 "metadata": {
  "kernelspec": {
   "display_name": "Python 3 (ipykernel)",
   "language": "python",
   "name": "python3"
  },
  "language_info": {
   "codemirror_mode": {
    "name": "ipython",
    "version": 3
   },
   "file_extension": ".py",
   "mimetype": "text/x-python",
   "name": "python",
   "nbconvert_exporter": "python",
   "pygments_lexer": "ipython3",
   "version": "3.11.4"
  }
 },
 "nbformat": 4,
 "nbformat_minor": 5
}
